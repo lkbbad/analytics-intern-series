{
 "cells": [
  {
   "attachments": {},
   "cell_type": "markdown",
   "metadata": {},
   "source": [
    "# **Week 3:** Statistical Inference & Model Planning\n",
    "#### July 5, 2023\n",
    "---------------- "
   ]
  },
  {
   "attachments": {},
   "cell_type": "markdown",
   "metadata": {},
   "source": [
    "This notebook is an exercise in exploratory data analysis, statistical testing, and model preparation using the Ames Iowa housing data (`ames_housing.csv`). \n",
    "\n",
    "[Link to Kaggle Dataset](https://www.kaggle.com/datasets/marcopale/housing)"
   ]
  },
  {
   "attachments": {},
   "cell_type": "markdown",
   "metadata": {},
   "source": [
    "Install necessary Python packages: Pandas, Matplotlib, Seaborn"
   ]
  },
  {
   "cell_type": "code",
   "execution_count": null,
   "metadata": {},
   "outputs": [],
   "source": [
    "import pandas as pd\n",
    "import matplotlib.pyplot as plt\n",
    "import seaborn as sns\n",
    "import numpy as np\n",
    "import statsmodels.api as sma\n",
    "import pylab as py\n",
    "import statsmodels as sm\n",
    "import scipy.stats as stats\n",
    "import statsmodels.formula.api as smf"
   ]
  },
  {
   "attachments": {},
   "cell_type": "markdown",
   "metadata": {},
   "source": [
    "Read the `ames_housing.csv` CSV file into a Pandas Dataframe, and call it `df`. Output the top 5 rows of the dataframe. You can also open this file in Excel to better visualize the data."
   ]
  },
  {
   "cell_type": "code",
   "execution_count": null,
   "metadata": {},
   "outputs": [],
   "source": [
    "df = pd.read_csv('ames_housing.csv')\n",
    "df.head()"
   ]
  },
  {
   "attachments": {},
   "cell_type": "markdown",
   "metadata": {},
   "source": [
    "What are the columns names in the dataset?"
   ]
  },
  {
   "cell_type": "code",
   "execution_count": null,
   "metadata": {},
   "outputs": [],
   "source": [
    "df.columns"
   ]
  },
  {
   "attachments": {},
   "cell_type": "markdown",
   "metadata": {},
   "source": [
    "## Univariate EDA"
   ]
  },
  {
   "attachments": {},
   "cell_type": "markdown",
   "metadata": {},
   "source": [
    "Let's begin by exploring one of our nominal variables `Heating_QC` which categorizes the quality and condition of a home's heating system. Build a bar chat to show the frequencies of each condition (`Poor, Fair, Typical, Good, Excellent`) in the dataset."
   ]
  },
  {
   "cell_type": "code",
   "execution_count": null,
   "metadata": {},
   "outputs": [],
   "source": [
    "ax = sns.countplot(data=df, x='Heating_QC', order=['Poor', 'Fair', 'Typical', 'Good', 'Excellent'])\n",
    "ax.set_title('Bar Graph of Heating System')\n",
    "ax.set_xlabel('Heating System Quality')\n",
    "ax.set_ylabel('Frequency')\n",
    "plt.show()"
   ]
  },
  {
   "attachments": {},
   "cell_type": "markdown",
   "metadata": {},
   "source": [
    "We can also get the same information in tabular form by grouping the dataset on the `Heating_QC` variable."
   ]
  },
  {
   "cell_type": "code",
   "execution_count": null,
   "metadata": {},
   "outputs": [],
   "source": [
    "df.groupby('Heating_QC').size()"
   ]
  },
  {
   "attachments": {},
   "cell_type": "markdown",
   "metadata": {},
   "source": [
    "It's a good thing that very few houses have heating systems in `Poor` condition! *It will likely make sense to combine the categories for `Poor` and `Fair` for our later analysis.*"
   ]
  },
  {
   "attachments": {},
   "cell_type": "markdown",
   "metadata": {},
   "source": [
    "Now, let's explore one of our interval variables `Sale_Price` which provides the sale price for each home. Build a histogram for to show the distribution of this variable *in thousands of dollars.*"
   ]
  },
  {
   "cell_type": "code",
   "execution_count": null,
   "metadata": {},
   "outputs": [],
   "source": [
    "ax = sns.histplot(x=df['Sale_Price']/1000)\n",
    "ax.set_title('Histogram of Sale Price in Thousands of Dollars')\n",
    "ax.set_xlabel('Sale Price (Thousands of $)')\n",
    "ax.set_ylabel('Frequency')\n",
    "plt.show()"
   ]
  },
  {
   "attachments": {},
   "cell_type": "markdown",
   "metadata": {},
   "source": [
    "From this histogram, we can conclude that most houses sell for less than $200,000, and there are a good number of outliers that are super expensive."
   ]
  },
  {
   "attachments": {},
   "cell_type": "markdown",
   "metadata": {},
   "source": [
    "We can now use statistics to describe the *location, spread, and shape* of the data."
   ]
  },
  {
   "attachments": {},
   "cell_type": "markdown",
   "metadata": {},
   "source": [
    "### Location"
   ]
  },
  {
   "attachments": {},
   "cell_type": "markdown",
   "metadata": {},
   "source": [
    "Compute the mean, median, and mode (and how often the mode occurs) of the sale price for homes in the dataset."
   ]
  },
  {
   "cell_type": "code",
   "execution_count": null,
   "metadata": {},
   "outputs": [],
   "source": [
    "np.mean(df['Sale_Price'])"
   ]
  },
  {
   "cell_type": "code",
   "execution_count": null,
   "metadata": {},
   "outputs": [],
   "source": [
    "np.median(df['Sale_Price'])"
   ]
  },
  {
   "cell_type": "code",
   "execution_count": null,
   "metadata": {},
   "outputs": [],
   "source": [
    "vals, counts = np.unique(df['Sale_Price'], return_counts=True)\n",
    "mode_value = np.argwhere(counts == np.max(counts))\n",
    "vals[mode_value].flatten().tolist()"
   ]
  },
  {
   "cell_type": "code",
   "execution_count": null,
   "metadata": {},
   "outputs": [],
   "source": [
    "np.max(counts) # number of times the mode occurs in the dataset"
   ]
  },
  {
   "attachments": {},
   "cell_type": "markdown",
   "metadata": {},
   "source": [
    "Let's show two different distributions of sale price, one for each level of the binary variable `Central_Air.` Observe the difference in *location* based on the distributions. Add a Kernel Density Estimator to further differentiate the distributions."
   ]
  },
  {
   "cell_type": "code",
   "execution_count": null,
   "metadata": {},
   "outputs": [],
   "source": [
    "sns.histplot(data=df, x=df['Sale_Price']/1000, hue='Central_Air', kde=True)\n",
    "plt.show()"
   ]
  },
  {
   "attachments": {},
   "cell_type": "markdown",
   "metadata": {},
   "source": [
    "We can immediately see that there are many more houses that have central air than do not in this dataset. The two distributions have different locations, with the blue distribution centered at a larger sale price than the orange. "
   ]
  },
  {
   "attachments": {},
   "cell_type": "markdown",
   "metadata": {},
   "source": [
    "### Spread"
   ]
  },
  {
   "attachments": {},
   "cell_type": "markdown",
   "metadata": {},
   "source": [
    "Compute the range, IQR, sample variance, and standard deviation of the sale price for homes in the dataset."
   ]
  },
  {
   "cell_type": "code",
   "execution_count": null,
   "metadata": {},
   "outputs": [],
   "source": [
    "np.max(df['Sale_Price']) - np.min(df['Sale_Price'])"
   ]
  },
  {
   "cell_type": "code",
   "execution_count": null,
   "metadata": {},
   "outputs": [],
   "source": [
    "q75, q25 = np.percentile(df['Sale_Price'], [75, 25])\n",
    "iqr = q75 - q25\n",
    "iqr"
   ]
  },
  {
   "cell_type": "code",
   "execution_count": null,
   "metadata": {},
   "outputs": [],
   "source": [
    "sns.boxplot(data=df, y=df['Sale_Price']/1000)\n",
    "plt.show()"
   ]
  },
  {
   "cell_type": "code",
   "execution_count": null,
   "metadata": {},
   "outputs": [],
   "source": [
    "np.var(df['Sale_Price'], ddof = 1)\n",
    "\n",
    "# ddof = “Delta Degrees of Freedom”\n",
    "# This is the divisor used in the calculation for variance.\n",
    "# By default, ddof is 0. We need to set it to 1 to fit the variance of the sample, rather than the population."
   ]
  },
  {
   "cell_type": "code",
   "execution_count": null,
   "metadata": {},
   "outputs": [],
   "source": [
    "stdev = np.std(df['Sale_Price'], ddof = 1)\n",
    "stdev"
   ]
  },
  {
   "attachments": {},
   "cell_type": "markdown",
   "metadata": {},
   "source": [
    "Remember the standard deviation is the square root of the variance. We can verify this math by squaring what we get for the standard deviation to make sure it matches our variance."
   ]
  },
  {
   "cell_type": "code",
   "execution_count": null,
   "metadata": {},
   "outputs": [],
   "source": [
    "stdev**2"
   ]
  },
  {
   "attachments": {},
   "cell_type": "markdown",
   "metadata": {},
   "source": [
    "You can output most of these statistics automatically with the `describe()` function in Pandas."
   ]
  },
  {
   "cell_type": "code",
   "execution_count": null,
   "metadata": {},
   "outputs": [],
   "source": [
    "df['Sale_Price'].describe()"
   ]
  },
  {
   "attachments": {},
   "cell_type": "markdown",
   "metadata": {},
   "source": [
    "### Shape"
   ]
  },
  {
   "attachments": {},
   "cell_type": "markdown",
   "metadata": {},
   "source": [
    "Build a QQ plot to determine if sale price follows a normal distribution. "
   ]
  },
  {
   "cell_type": "code",
   "execution_count": null,
   "metadata": {},
   "outputs": [],
   "source": [
    "sma.qqplot(df['Sale_Price']/1000, line='45',fit=True)\n",
    "py.show()"
   ]
  },
  {
   "attachments": {},
   "cell_type": "markdown",
   "metadata": {},
   "source": [
    "### Statistical Inference"
   ]
  },
  {
   "attachments": {},
   "cell_type": "markdown",
   "metadata": {},
   "source": [
    "Create a 95% confidence interval for the mean of sale price in our dataset."
   ]
  },
  {
   "cell_type": "code",
   "execution_count": null,
   "metadata": {},
   "outputs": [],
   "source": [
    "CI = stats.t.interval(confidence=0.95,\n",
    "            df=len(df['Sale_Price'])-1,\n",
    "            loc=np.mean(df['Sale_Price']), \n",
    "            scale=stats.sem(df['Sale_Price']))\n",
    "CI"
   ]
  },
  {
   "attachments": {},
   "cell_type": "markdown",
   "metadata": {},
   "source": [
    "This can be interpreted as follows: \"We expect that 95% of the time, this confidence interval will contain the population mean.\""
   ]
  },
  {
   "attachments": {},
   "cell_type": "markdown",
   "metadata": {},
   "source": [
    "Let's conduct hypothesis testing (two-sided t-test for the mean) to test the null hypothesis that the mean sale price of homes in the dataset is $178,000. Let `alpha = 0.05`."
   ]
  },
  {
   "cell_type": "code",
   "execution_count": null,
   "metadata": {},
   "outputs": [],
   "source": [
    "stats.ttest_1samp(df['Sale_Price'], 178000, alternative='two-sided')"
   ]
  },
  {
   "attachments": {},
   "cell_type": "markdown",
   "metadata": {},
   "source": [
    "The p-value is greater than 0.05, so we cannot reject our null hypothesis. Instead, we can assume that the mean sale price of the population is not significantly different from $178,000."
   ]
  },
  {
   "attachments": {},
   "cell_type": "markdown",
   "metadata": {},
   "source": [
    "## Bivariate EDA"
   ]
  },
  {
   "attachments": {},
   "cell_type": "markdown",
   "metadata": {},
   "source": [
    "### Continuous-Continuous Associations"
   ]
  },
  {
   "attachments": {},
   "cell_type": "markdown",
   "metadata": {},
   "source": [
    "To examine Continuous-Continuous associations, let's begin by exploring the relationship between sale price and greater living area (sq ft). Build a scatter plot between the two variables, with sale price as the target variable."
   ]
  },
  {
   "cell_type": "code",
   "execution_count": null,
   "metadata": {},
   "outputs": [],
   "source": [
    "ax = sns.relplot(data = df, y = df['Sale_Price']/1000, x = \"Gr_Liv_Area\")\n",
    "ax.set(ylabel = 'Sales Price (Thousands $)',\n",
    "       xlabel = 'Greater Living Area (Sqft)')\n",
    "plt.show()"
   ]
  },
  {
   "attachments": {},
   "cell_type": "markdown",
   "metadata": {},
   "source": [
    "It looks like there is a relationship here, but we can't declare a statistical relationship without a formal hypothesis test."
   ]
  },
  {
   "attachments": {},
   "cell_type": "markdown",
   "metadata": {},
   "source": [
    "### Continuous-Categorical Associations"
   ]
  },
  {
   "attachments": {},
   "cell_type": "markdown",
   "metadata": {},
   "source": [
    "To examine Continuous-Categorical associations, let's begin by exploring the relationship between external quality rating of the home and sale price. Build a bar chart between the two variables, showing the average sale price of homes with each value of exterior quality."
   ]
  },
  {
   "cell_type": "code",
   "execution_count": null,
   "metadata": {},
   "outputs": [],
   "source": [
    "ax = sns.catplot(data = df, y = \"Sale_Price\", x = \"Exter_Qual\", kind = \"bar\")\n",
    "ax.set(ylabel = 'Sales Price (Thousands $)',\n",
    "       xlabel = 'Exterior Quality')\n",
    "plt.show()"
   ]
  },
  {
   "attachments": {},
   "cell_type": "markdown",
   "metadata": {},
   "source": [
    "Again, it looks like there is an association between the variables, but we can't rely soley on the graph. We need a hypothesis test."
   ]
  },
  {
   "attachments": {},
   "cell_type": "markdown",
   "metadata": {},
   "source": [
    "Let's conduct a one-way ANOVA to determine whether there is a statistical difference in the mean of sale price across levels of exterior quality. "
   ]
  },
  {
   "cell_type": "code",
   "execution_count": null,
   "metadata": {},
   "outputs": [],
   "source": [
    "stats.f_oneway(df['Sale_Price'][df['Exter_Qual'] == 'Excellent'],\n",
    "               df['Sale_Price'][df['Exter_Qual'] == 'Good'],\n",
    "               df['Sale_Price'][df['Exter_Qual'] == 'Typical'],\n",
    "               df['Sale_Price'][df['Exter_Qual'] == 'Fair'])"
   ]
  },
  {
   "attachments": {},
   "cell_type": "markdown",
   "metadata": {},
   "source": [
    "The p-value is so low, it's almost 0. We can conclude that there is a significant difference in sale price across different levels of exterior quality."
   ]
  },
  {
   "attachments": {},
   "cell_type": "markdown",
   "metadata": {},
   "source": [
    "### Correlation"
   ]
  },
  {
   "attachments": {},
   "cell_type": "markdown",
   "metadata": {},
   "source": [
    "Conduct a Pearson correlation test to further explore the relationship between sale price and greater living area (sq ft)."
   ]
  },
  {
   "cell_type": "code",
   "execution_count": null,
   "metadata": {},
   "outputs": [],
   "source": [
    "stats.pearsonr(df['Gr_Liv_Area'], df['Sale_Price'])"
   ]
  },
  {
   "attachments": {},
   "cell_type": "markdown",
   "metadata": {},
   "source": [
    "The correlation coefficient is 0.71. The p-value is so low, it's almost 0. Our null hypothesis here is that there is no linear relationship between the two variables; so, this means we can conclude there is a significant positive linear relationship between them."
   ]
  },
  {
   "attachments": {},
   "cell_type": "markdown",
   "metadata": {},
   "source": [
    "### Simple Linear Regression"
   ]
  },
  {
   "cell_type": "code",
   "execution_count": null,
   "metadata": {},
   "outputs": [],
   "source": [
    "model_slr = smf.ols(\"Sale_Price ~ Gr_Liv_Area\", data = df).fit()\n",
    "model_slr.summary()"
   ]
  },
  {
   "attachments": {},
   "cell_type": "markdown",
   "metadata": {},
   "source": [
    "The coefficient for `Gr_Liv_Area` is $111.69. The p-value is so low, it's almost 0. Since the coefficient is statistically significant, this means that we expect the price of a home to increase by $111.69 for every additional square foot of living space. "
   ]
  }
 ],
 "metadata": {
  "kernelspec": {
   "display_name": "Python 3",
   "language": "python",
   "name": "python3"
  },
  "language_info": {
   "codemirror_mode": {
    "name": "ipython",
    "version": 3
   },
   "file_extension": ".py",
   "mimetype": "text/x-python",
   "name": "python",
   "nbconvert_exporter": "python",
   "pygments_lexer": "ipython3",
   "version": "3.11.4"
  },
  "orig_nbformat": 4
 },
 "nbformat": 4,
 "nbformat_minor": 2
}
