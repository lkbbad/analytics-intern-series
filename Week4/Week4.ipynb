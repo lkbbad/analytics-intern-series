{
 "cells": [
  {
   "attachments": {},
   "cell_type": "markdown",
   "metadata": {},
   "source": [
    "# **Week 4:** Model Building: Multiple Linear Regression & Logistic Regression\n",
    "#### July 12, 2023\n",
    "---------------- "
   ]
  },
  {
   "attachments": {},
   "cell_type": "markdown",
   "metadata": {},
   "source": [
    "This notebook is an exercise in preparing and building multiple linear and logistic regression models using the Ames Iowa housing data (`ames_housing.csv`) and the Titanic training dataset (`titanic_train.csv`). \n",
    "\n",
    "[Link to Ames Housing Kaggle Dataset](https://www.kaggle.com/datasets/marcopale/housing)\n",
    "\n",
    "[Link to Titanic Training Dataset](https://www.kaggle.com/competitions/titanic/data)"
   ]
  },
  {
   "attachments": {},
   "cell_type": "markdown",
   "metadata": {},
   "source": [
    "Install necessary Python packages"
   ]
  },
  {
   "cell_type": "markdown",
   "metadata": {},
   "source": [
    "### Setup Dataset"
   ]
  },
  {
   "cell_type": "code",
   "execution_count": 53,
   "metadata": {},
   "outputs": [],
   "source": [
    "from sklearn.model_selection import train_test_split\n",
    "import pandas as pd\n",
    "import statsmodels.formula.api as smf\n",
    "import seaborn as sns\n",
    "import matplotlib.pyplot as plt\n",
    "import statsmodels as sm\n",
    "import statsmodels.api as sma\n",
    "import scipy as sp\n",
    "from statsmodels.stats.outliers_influence import OLSInfluence\n",
    "import numpy as np\n",
    "from patsy import dmatrices\n",
    "from statsmodels.stats.outliers_influence import variance_inflation_factor\n",
    "from math import sqrt\n",
    "import sklearn.metrics"
   ]
  },
  {
   "attachments": {},
   "cell_type": "markdown",
   "metadata": {},
   "source": [
    "Read the `ames_housing.csv` CSV file into a Pandas Dataframe, and call it `df`."
   ]
  },
  {
   "cell_type": "code",
   "execution_count": 54,
   "metadata": {},
   "outputs": [],
   "source": [
    "df = pd.read_csv('ames_housing.csv')"
   ]
  },
  {
   "cell_type": "markdown",
   "metadata": {},
   "source": [
    "Split the data into training and test sets (70%, 30%). Print out the number of rows in each set to make sure the data is split correctly."
   ]
  },
  {
   "cell_type": "code",
   "execution_count": 55,
   "metadata": {},
   "outputs": [
    {
     "data": {
      "text/plain": [
       "((2051, 82), (879, 82))"
      ]
     },
     "execution_count": 55,
     "metadata": {},
     "output_type": "execute_result"
    }
   ],
   "source": [
    "train, test = train_test_split(df, test_size=0.3, random_state=123)\n",
    "train.shape, test.shape"
   ]
  },
  {
   "cell_type": "markdown",
   "metadata": {},
   "source": [
    "### Multiple Linear Regression"
   ]
  },
  {
   "cell_type": "markdown",
   "metadata": {},
   "source": [
    "Let's build a MLR model to predict sale price (`Sale_Price`) based on:\n",
    "  1) the square footage of the greater living area of the home (`Gr_Liv_Area`), and \n",
    "  2) the total number of rooms above ground (`TotRms_AbvGrd`).\n",
    "\n",
    "Remember to use the training dataset."
   ]
  },
  {
   "cell_type": "code",
   "execution_count": 56,
   "metadata": {},
   "outputs": [
    {
     "data": {
      "text/html": [
       "<table class=\"simpletable\">\n",
       "<caption>OLS Regression Results</caption>\n",
       "<tr>\n",
       "  <th>Dep. Variable:</th>       <td>Sale_Price</td>    <th>  R-squared:         </th> <td>   0.499</td> \n",
       "</tr>\n",
       "<tr>\n",
       "  <th>Model:</th>                   <td>OLS</td>       <th>  Adj. R-squared:    </th> <td>   0.499</td> \n",
       "</tr>\n",
       "<tr>\n",
       "  <th>Method:</th>             <td>Least Squares</td>  <th>  F-statistic:       </th> <td>   1022.</td> \n",
       "</tr>\n",
       "<tr>\n",
       "  <th>Date:</th>             <td>Wed, 12 Jul 2023</td> <th>  Prob (F-statistic):</th> <td>1.82e-308</td>\n",
       "</tr>\n",
       "<tr>\n",
       "  <th>Time:</th>                 <td>15:40:24</td>     <th>  Log-Likelihood:    </th> <td> -25378.</td> \n",
       "</tr>\n",
       "<tr>\n",
       "  <th>No. Observations:</th>      <td>  2051</td>      <th>  AIC:               </th> <td>5.076e+04</td>\n",
       "</tr>\n",
       "<tr>\n",
       "  <th>Df Residuals:</th>          <td>  2048</td>      <th>  BIC:               </th> <td>5.078e+04</td>\n",
       "</tr>\n",
       "<tr>\n",
       "  <th>Df Model:</th>              <td>     2</td>      <th>                     </th>     <td> </td>    \n",
       "</tr>\n",
       "<tr>\n",
       "  <th>Covariance Type:</th>      <td>nonrobust</td>    <th>                     </th>     <td> </td>    \n",
       "</tr>\n",
       "</table>\n",
       "<table class=\"simpletable\">\n",
       "<tr>\n",
       "        <td></td>           <th>coef</th>     <th>std err</th>      <th>t</th>      <th>P>|t|</th>  <th>[0.025</th>    <th>0.975]</th>  \n",
       "</tr>\n",
       "<tr>\n",
       "  <th>Intercept</th>     <td> 4.435e+04</td> <td> 5356.883</td> <td>    8.279</td> <td> 0.000</td> <td> 3.38e+04</td> <td> 5.49e+04</td>\n",
       "</tr>\n",
       "<tr>\n",
       "  <th>Gr_Liv_Area</th>   <td>  137.0996</td> <td>    4.182</td> <td>   32.783</td> <td> 0.000</td> <td>  128.898</td> <td>  145.301</td>\n",
       "</tr>\n",
       "<tr>\n",
       "  <th>TotRms_AbvGrd</th> <td>-1.061e+04</td> <td> 1344.500</td> <td>   -7.892</td> <td> 0.000</td> <td>-1.32e+04</td> <td>-7974.412</td>\n",
       "</tr>\n",
       "</table>\n",
       "<table class=\"simpletable\">\n",
       "<tr>\n",
       "  <th>Omnibus:</th>       <td>369.235</td> <th>  Durbin-Watson:     </th> <td>   2.044</td>\n",
       "</tr>\n",
       "<tr>\n",
       "  <th>Prob(Omnibus):</th> <td> 0.000</td>  <th>  Jarque-Bera (JB):  </th> <td>6501.598</td>\n",
       "</tr>\n",
       "<tr>\n",
       "  <th>Skew:</th>          <td> 0.299</td>  <th>  Prob(JB):          </th> <td>    0.00</td>\n",
       "</tr>\n",
       "<tr>\n",
       "  <th>Kurtosis:</th>      <td>11.702</td>  <th>  Cond. No.          </th> <td>6.83e+03</td>\n",
       "</tr>\n",
       "</table><br/><br/>Notes:<br/>[1] Standard Errors assume that the covariance matrix of the errors is correctly specified.<br/>[2] The condition number is large, 6.83e+03. This might indicate that there are<br/>strong multicollinearity or other numerical problems."
      ],
      "text/latex": [
       "\\begin{center}\n",
       "\\begin{tabular}{lclc}\n",
       "\\toprule\n",
       "\\textbf{Dep. Variable:}    &   Sale\\_Price    & \\textbf{  R-squared:         } &     0.499   \\\\\n",
       "\\textbf{Model:}            &       OLS        & \\textbf{  Adj. R-squared:    } &     0.499   \\\\\n",
       "\\textbf{Method:}           &  Least Squares   & \\textbf{  F-statistic:       } &     1022.   \\\\\n",
       "\\textbf{Date:}             & Wed, 12 Jul 2023 & \\textbf{  Prob (F-statistic):} & 1.82e-308   \\\\\n",
       "\\textbf{Time:}             &     15:40:24     & \\textbf{  Log-Likelihood:    } &   -25378.   \\\\\n",
       "\\textbf{No. Observations:} &        2051      & \\textbf{  AIC:               } & 5.076e+04   \\\\\n",
       "\\textbf{Df Residuals:}     &        2048      & \\textbf{  BIC:               } & 5.078e+04   \\\\\n",
       "\\textbf{Df Model:}         &           2      & \\textbf{                     } &             \\\\\n",
       "\\textbf{Covariance Type:}  &    nonrobust     & \\textbf{                     } &             \\\\\n",
       "\\bottomrule\n",
       "\\end{tabular}\n",
       "\\begin{tabular}{lcccccc}\n",
       "                        & \\textbf{coef} & \\textbf{std err} & \\textbf{t} & \\textbf{P$> |$t$|$} & \\textbf{[0.025} & \\textbf{0.975]}  \\\\\n",
       "\\midrule\n",
       "\\textbf{Intercept}      &    4.435e+04  &     5356.883     &     8.279  &         0.000        &     3.38e+04    &     5.49e+04     \\\\\n",
       "\\textbf{Gr\\_Liv\\_Area}  &     137.0996  &        4.182     &    32.783  &         0.000        &      128.898    &      145.301     \\\\\n",
       "\\textbf{TotRms\\_AbvGrd} &   -1.061e+04  &     1344.500     &    -7.892  &         0.000        &    -1.32e+04    &    -7974.412     \\\\\n",
       "\\bottomrule\n",
       "\\end{tabular}\n",
       "\\begin{tabular}{lclc}\n",
       "\\textbf{Omnibus:}       & 369.235 & \\textbf{  Durbin-Watson:     } &    2.044  \\\\\n",
       "\\textbf{Prob(Omnibus):} &   0.000 & \\textbf{  Jarque-Bera (JB):  } & 6501.598  \\\\\n",
       "\\textbf{Skew:}          &   0.299 & \\textbf{  Prob(JB):          } &     0.00  \\\\\n",
       "\\textbf{Kurtosis:}      &  11.702 & \\textbf{  Cond. No.          } & 6.83e+03  \\\\\n",
       "\\bottomrule\n",
       "\\end{tabular}\n",
       "%\\caption{OLS Regression Results}\n",
       "\\end{center}\n",
       "\n",
       "Notes: \\newline\n",
       " [1] Standard Errors assume that the covariance matrix of the errors is correctly specified. \\newline\n",
       " [2] The condition number is large, 6.83e+03. This might indicate that there are \\newline\n",
       " strong multicollinearity or other numerical problems."
      ],
      "text/plain": [
       "<class 'statsmodels.iolib.summary.Summary'>\n",
       "\"\"\"\n",
       "                            OLS Regression Results                            \n",
       "==============================================================================\n",
       "Dep. Variable:             Sale_Price   R-squared:                       0.499\n",
       "Model:                            OLS   Adj. R-squared:                  0.499\n",
       "Method:                 Least Squares   F-statistic:                     1022.\n",
       "Date:                Wed, 12 Jul 2023   Prob (F-statistic):          1.82e-308\n",
       "Time:                        15:40:24   Log-Likelihood:                -25378.\n",
       "No. Observations:                2051   AIC:                         5.076e+04\n",
       "Df Residuals:                    2048   BIC:                         5.078e+04\n",
       "Df Model:                           2                                         \n",
       "Covariance Type:            nonrobust                                         \n",
       "=================================================================================\n",
       "                    coef    std err          t      P>|t|      [0.025      0.975]\n",
       "---------------------------------------------------------------------------------\n",
       "Intercept      4.435e+04   5356.883      8.279      0.000    3.38e+04    5.49e+04\n",
       "Gr_Liv_Area     137.0996      4.182     32.783      0.000     128.898     145.301\n",
       "TotRms_AbvGrd -1.061e+04   1344.500     -7.892      0.000   -1.32e+04   -7974.412\n",
       "==============================================================================\n",
       "Omnibus:                      369.235   Durbin-Watson:                   2.044\n",
       "Prob(Omnibus):                  0.000   Jarque-Bera (JB):             6501.598\n",
       "Skew:                           0.299   Prob(JB):                         0.00\n",
       "Kurtosis:                      11.702   Cond. No.                     6.83e+03\n",
       "==============================================================================\n",
       "\n",
       "Notes:\n",
       "[1] Standard Errors assume that the covariance matrix of the errors is correctly specified.\n",
       "[2] The condition number is large, 6.83e+03. This might indicate that there are\n",
       "strong multicollinearity or other numerical problems.\n",
       "\"\"\""
      ]
     },
     "execution_count": 56,
     "metadata": {},
     "output_type": "execute_result"
    }
   ],
   "source": [
    "model_mlr = smf.ols(\"Sale_Price ~ Gr_Liv_Area + TotRms_AbvGrd\", data = train).fit()\n",
    "model_mlr.summary()"
   ]
  },
  {
   "cell_type": "markdown",
   "metadata": {},
   "source": [
    "At the top right of this summary, we see the p-value for the Global F-test (`Prob (F-statistic)`). Since the p-value is below alpha = 0.05, we can assume that at least one of the two variables is significant at predicting the sale price of the home. \n",
    "\n",
    "By looking at the individual t-tests in the output above, we can see that both variables are actually significant since the p-values are both so low they are almost 0 (`P>|t|`)."
   ]
  },
  {
   "cell_type": "markdown",
   "metadata": {},
   "source": [
    "### Diagnostics"
   ]
  },
  {
   "cell_type": "markdown",
   "metadata": {},
   "source": [
    "We need to check the assumptions of MLR by looking at the residuals of our model. Get the predicted values and residuals from the model for the training dataset."
   ]
  },
  {
   "cell_type": "code",
   "execution_count": 57,
   "metadata": {},
   "outputs": [
    {
     "data": {
      "text/html": [
       "<div>\n",
       "<style scoped>\n",
       "    .dataframe tbody tr th:only-of-type {\n",
       "        vertical-align: middle;\n",
       "    }\n",
       "\n",
       "    .dataframe tbody tr th {\n",
       "        vertical-align: top;\n",
       "    }\n",
       "\n",
       "    .dataframe thead th {\n",
       "        text-align: right;\n",
       "    }\n",
       "</style>\n",
       "<table border=\"1\" class=\"dataframe\">\n",
       "  <thead>\n",
       "    <tr style=\"text-align: right;\">\n",
       "      <th></th>\n",
       "      <th>Sale_Price</th>\n",
       "      <th>pred_mlr</th>\n",
       "      <th>resid_mlr</th>\n",
       "    </tr>\n",
       "  </thead>\n",
       "  <tbody>\n",
       "    <tr>\n",
       "      <th>2278</th>\n",
       "      <td>130000</td>\n",
       "      <td>227710.888850</td>\n",
       "      <td>-97710.888850</td>\n",
       "    </tr>\n",
       "    <tr>\n",
       "      <th>1379</th>\n",
       "      <td>109900</td>\n",
       "      <td>104621.715150</td>\n",
       "      <td>5278.284850</td>\n",
       "    </tr>\n",
       "    <tr>\n",
       "      <th>2182</th>\n",
       "      <td>140000</td>\n",
       "      <td>138265.597431</td>\n",
       "      <td>1734.402569</td>\n",
       "    </tr>\n",
       "    <tr>\n",
       "      <th>1436</th>\n",
       "      <td>207500</td>\n",
       "      <td>207172.249891</td>\n",
       "      <td>327.750109</td>\n",
       "    </tr>\n",
       "    <tr>\n",
       "      <th>1599</th>\n",
       "      <td>98000</td>\n",
       "      <td>130396.448481</td>\n",
       "      <td>-32396.448481</td>\n",
       "    </tr>\n",
       "    <tr>\n",
       "      <th>452</th>\n",
       "      <td>196000</td>\n",
       "      <td>170346.914449</td>\n",
       "      <td>25653.085551</td>\n",
       "    </tr>\n",
       "    <tr>\n",
       "      <th>585</th>\n",
       "      <td>256900</td>\n",
       "      <td>321404.415805</td>\n",
       "      <td>-64504.415805</td>\n",
       "    </tr>\n",
       "    <tr>\n",
       "      <th>1078</th>\n",
       "      <td>154000</td>\n",
       "      <td>203607.659111</td>\n",
       "      <td>-49607.659111</td>\n",
       "    </tr>\n",
       "    <tr>\n",
       "      <th>2452</th>\n",
       "      <td>290000</td>\n",
       "      <td>305775.056232</td>\n",
       "      <td>-15775.056232</td>\n",
       "    </tr>\n",
       "    <tr>\n",
       "      <th>1658</th>\n",
       "      <td>175000</td>\n",
       "      <td>209037.175762</td>\n",
       "      <td>-34037.175762</td>\n",
       "    </tr>\n",
       "  </tbody>\n",
       "</table>\n",
       "</div>"
      ],
      "text/plain": [
       "      Sale_Price       pred_mlr     resid_mlr\n",
       "2278      130000  227710.888850 -97710.888850\n",
       "1379      109900  104621.715150   5278.284850\n",
       "2182      140000  138265.597431   1734.402569\n",
       "1436      207500  207172.249891    327.750109\n",
       "1599       98000  130396.448481 -32396.448481\n",
       "452       196000  170346.914449  25653.085551\n",
       "585       256900  321404.415805 -64504.415805\n",
       "1078      154000  203607.659111 -49607.659111\n",
       "2452      290000  305775.056232 -15775.056232\n",
       "1658      175000  209037.175762 -34037.175762"
      ]
     },
     "execution_count": 57,
     "metadata": {},
     "output_type": "execute_result"
    }
   ],
   "source": [
    "train['pred_mlr'] = model_mlr.predict() # get predicted values for Sale_Price for each observation \n",
    "train['resid_mlr'] = model_mlr.resid # get error values\n",
    "\n",
    "train[['Sale_Price', 'pred_mlr', 'resid_mlr']].head(n = 10)"
   ]
  },
  {
   "cell_type": "markdown",
   "metadata": {},
   "source": [
    "#### Assumption #1: The model is properly specified.\n",
    "#### Assumption #2: The random errors are independent.\n",
    "#### Assumption #4: The random errors have equal variance."
   ]
  },
  {
   "cell_type": "markdown",
   "metadata": {},
   "source": [
    "Plot the residuals to verify the model is properly specified, there is no evidence of autocorrelation, and there is constant variance of the residuals."
   ]
  },
  {
   "cell_type": "code",
   "execution_count": 58,
   "metadata": {},
   "outputs": [
    {
     "name": "stderr",
     "output_type": "stream",
     "text": [
      "c:\\Users\\libust\\AppData\\Local\\Programs\\Python\\Python310\\lib\\site-packages\\seaborn\\axisgrid.py:118: UserWarning: The figure layout has changed to tight\n",
      "  self._figure.tight_layout(*args, **kwargs)\n"
     ]
    },
    {
     "data": {
      "image/png": "[encoded data removed]",
      "text/plain": [
       "<Figure size 500x500 with 1 Axes>"
      ]
     },
     "metadata": {},
     "output_type": "display_data"
    }
   ],
   "source": [
    "ax = sns.relplot(data = train, y = \"resid_mlr\", x = train[\"Sale_Price\"]/1000)\n",
    "ax.set(ylabel = 'Residuals', xlabel = 'Sale Price (Thousands of $)')\n",
    "plt.show()"
   ]
  },
  {
   "cell_type": "markdown",
   "metadata": {},
   "source": [
    "There is a positive, linear pattern in the residual plot, and this violates the proper model specification assumption. \n",
    "\n",
    "The residuals do not appear to be autocorrelated.\n",
    "\n",
    "The variability increases as the sale price decreases (heteroskedasticity), and this violates the constant variance assumption. \n",
    "\n",
    "Go back and add/remove variables to the model to see how the pattern and variance of residuals changes. "
   ]
  },
  {
   "cell_type": "markdown",
   "metadata": {},
   "source": [
    "CHALLENGE: You can conduct formal hypothesis testing to determine if the residuals meet the autocorrelation assumption (Durbin-Watson Test). The null hypothesis of this test assumes that the residuals are not correlated."
   ]
  },
  {
   "cell_type": "code",
   "execution_count": 59,
   "metadata": {},
   "outputs": [
    {
     "data": {
      "text/html": [
       "<table class=\"simpletable\">\n",
       "<caption>OLS Regression Results</caption>\n",
       "<tr>\n",
       "  <th>Dep. Variable:</th>       <td>Sale_Price</td>    <th>  R-squared:         </th> <td>   0.499</td> \n",
       "</tr>\n",
       "<tr>\n",
       "  <th>Model:</th>                   <td>OLS</td>       <th>  Adj. R-squared:    </th> <td>   0.499</td> \n",
       "</tr>\n",
       "<tr>\n",
       "  <th>Method:</th>             <td>Least Squares</td>  <th>  F-statistic:       </th> <td>   1022.</td> \n",
       "</tr>\n",
       "<tr>\n",
       "  <th>Date:</th>             <td>Wed, 12 Jul 2023</td> <th>  Prob (F-statistic):</th> <td>1.82e-308</td>\n",
       "</tr>\n",
       "<tr>\n",
       "  <th>Time:</th>                 <td>15:40:24</td>     <th>  Log-Likelihood:    </th> <td> -25378.</td> \n",
       "</tr>\n",
       "<tr>\n",
       "  <th>No. Observations:</th>      <td>  2051</td>      <th>  AIC:               </th> <td>5.076e+04</td>\n",
       "</tr>\n",
       "<tr>\n",
       "  <th>Df Residuals:</th>          <td>  2048</td>      <th>  BIC:               </th> <td>5.078e+04</td>\n",
       "</tr>\n",
       "<tr>\n",
       "  <th>Df Model:</th>              <td>     2</td>      <th>                     </th>     <td> </td>    \n",
       "</tr>\n",
       "<tr>\n",
       "  <th>Covariance Type:</th>      <td>nonrobust</td>    <th>                     </th>     <td> </td>    \n",
       "</tr>\n",
       "</table>\n",
       "<table class=\"simpletable\">\n",
       "<tr>\n",
       "        <td></td>           <th>coef</th>     <th>std err</th>      <th>t</th>      <th>P>|t|</th>  <th>[0.025</th>    <th>0.975]</th>  \n",
       "</tr>\n",
       "<tr>\n",
       "  <th>Intercept</th>     <td> 4.435e+04</td> <td> 5356.883</td> <td>    8.279</td> <td> 0.000</td> <td> 3.38e+04</td> <td> 5.49e+04</td>\n",
       "</tr>\n",
       "<tr>\n",
       "  <th>Gr_Liv_Area</th>   <td>  137.0996</td> <td>    4.182</td> <td>   32.783</td> <td> 0.000</td> <td>  128.898</td> <td>  145.301</td>\n",
       "</tr>\n",
       "<tr>\n",
       "  <th>TotRms_AbvGrd</th> <td>-1.061e+04</td> <td> 1344.500</td> <td>   -7.892</td> <td> 0.000</td> <td>-1.32e+04</td> <td>-7974.412</td>\n",
       "</tr>\n",
       "</table>\n",
       "<table class=\"simpletable\">\n",
       "<tr>\n",
       "  <th>Omnibus:</th>       <td>369.235</td> <th>  Durbin-Watson:     </th> <td>   2.044</td>\n",
       "</tr>\n",
       "<tr>\n",
       "  <th>Prob(Omnibus):</th> <td> 0.000</td>  <th>  Jarque-Bera (JB):  </th> <td>6501.598</td>\n",
       "</tr>\n",
       "<tr>\n",
       "  <th>Skew:</th>          <td> 0.299</td>  <th>  Prob(JB):          </th> <td>    0.00</td>\n",
       "</tr>\n",
       "<tr>\n",
       "  <th>Kurtosis:</th>      <td>11.702</td>  <th>  Cond. No.          </th> <td>6.83e+03</td>\n",
       "</tr>\n",
       "</table><br/><br/>Notes:<br/>[1] Standard Errors assume that the covariance matrix of the errors is correctly specified.<br/>[2] The condition number is large, 6.83e+03. This might indicate that there are<br/>strong multicollinearity or other numerical problems."
      ],
      "text/latex": [
       "\\begin{center}\n",
       "\\begin{tabular}{lclc}\n",
       "\\toprule\n",
       "\\textbf{Dep. Variable:}    &   Sale\\_Price    & \\textbf{  R-squared:         } &     0.499   \\\\\n",
       "\\textbf{Model:}            &       OLS        & \\textbf{  Adj. R-squared:    } &     0.499   \\\\\n",
       "\\textbf{Method:}           &  Least Squares   & \\textbf{  F-statistic:       } &     1022.   \\\\\n",
       "\\textbf{Date:}             & Wed, 12 Jul 2023 & \\textbf{  Prob (F-statistic):} & 1.82e-308   \\\\\n",
       "\\textbf{Time:}             &     15:40:24     & \\textbf{  Log-Likelihood:    } &   -25378.   \\\\\n",
       "\\textbf{No. Observations:} &        2051      & \\textbf{  AIC:               } & 5.076e+04   \\\\\n",
       "\\textbf{Df Residuals:}     &        2048      & \\textbf{  BIC:               } & 5.078e+04   \\\\\n",
       "\\textbf{Df Model:}         &           2      & \\textbf{                     } &             \\\\\n",
       "\\textbf{Covariance Type:}  &    nonrobust     & \\textbf{                     } &             \\\\\n",
       "\\bottomrule\n",
       "\\end{tabular}\n",
       "\\begin{tabular}{lcccccc}\n",
       "                        & \\textbf{coef} & \\textbf{std err} & \\textbf{t} & \\textbf{P$> |$t$|$} & \\textbf{[0.025} & \\textbf{0.975]}  \\\\\n",
       "\\midrule\n",
       "\\textbf{Intercept}      &    4.435e+04  &     5356.883     &     8.279  &         0.000        &     3.38e+04    &     5.49e+04     \\\\\n",
       "\\textbf{Gr\\_Liv\\_Area}  &     137.0996  &        4.182     &    32.783  &         0.000        &      128.898    &      145.301     \\\\\n",
       "\\textbf{TotRms\\_AbvGrd} &   -1.061e+04  &     1344.500     &    -7.892  &         0.000        &    -1.32e+04    &    -7974.412     \\\\\n",
       "\\bottomrule\n",
       "\\end{tabular}\n",
       "\\begin{tabular}{lclc}\n",
       "\\textbf{Omnibus:}       & 369.235 & \\textbf{  Durbin-Watson:     } &    2.044  \\\\\n",
       "\\textbf{Prob(Omnibus):} &   0.000 & \\textbf{  Jarque-Bera (JB):  } & 6501.598  \\\\\n",
       "\\textbf{Skew:}          &   0.299 & \\textbf{  Prob(JB):          } &     0.00  \\\\\n",
       "\\textbf{Kurtosis:}      &  11.702 & \\textbf{  Cond. No.          } & 6.83e+03  \\\\\n",
       "\\bottomrule\n",
       "\\end{tabular}\n",
       "%\\caption{OLS Regression Results}\n",
       "\\end{center}\n",
       "\n",
       "Notes: \\newline\n",
       " [1] Standard Errors assume that the covariance matrix of the errors is correctly specified. \\newline\n",
       " [2] The condition number is large, 6.83e+03. This might indicate that there are \\newline\n",
       " strong multicollinearity or other numerical problems."
      ],
      "text/plain": [
       "<class 'statsmodels.iolib.summary.Summary'>\n",
       "\"\"\"\n",
       "                            OLS Regression Results                            \n",
       "==============================================================================\n",
       "Dep. Variable:             Sale_Price   R-squared:                       0.499\n",
       "Model:                            OLS   Adj. R-squared:                  0.499\n",
       "Method:                 Least Squares   F-statistic:                     1022.\n",
       "Date:                Wed, 12 Jul 2023   Prob (F-statistic):          1.82e-308\n",
       "Time:                        15:40:24   Log-Likelihood:                -25378.\n",
       "No. Observations:                2051   AIC:                         5.076e+04\n",
       "Df Residuals:                    2048   BIC:                         5.078e+04\n",
       "Df Model:                           2                                         \n",
       "Covariance Type:            nonrobust                                         \n",
       "=================================================================================\n",
       "                    coef    std err          t      P>|t|      [0.025      0.975]\n",
       "---------------------------------------------------------------------------------\n",
       "Intercept      4.435e+04   5356.883      8.279      0.000    3.38e+04    5.49e+04\n",
       "Gr_Liv_Area     137.0996      4.182     32.783      0.000     128.898     145.301\n",
       "TotRms_AbvGrd -1.061e+04   1344.500     -7.892      0.000   -1.32e+04   -7974.412\n",
       "==============================================================================\n",
       "Omnibus:                      369.235   Durbin-Watson:                   2.044\n",
       "Prob(Omnibus):                  0.000   Jarque-Bera (JB):             6501.598\n",
       "Skew:                           0.299   Prob(JB):                         0.00\n",
       "Kurtosis:                      11.702   Cond. No.                     6.83e+03\n",
       "==============================================================================\n",
       "\n",
       "Notes:\n",
       "[1] Standard Errors assume that the covariance matrix of the errors is correctly specified.\n",
       "[2] The condition number is large, 6.83e+03. This might indicate that there are\n",
       "strong multicollinearity or other numerical problems.\n",
       "\"\"\""
      ]
     },
     "execution_count": 59,
     "metadata": {},
     "output_type": "execute_result"
    }
   ],
   "source": [
    "model_mlr.summary()"
   ]
  },
  {
   "cell_type": "markdown",
   "metadata": {},
   "source": [
    "At the bottom of this summary, the D-W statistic is given. This number can range from 0 to 4, with a value of 2 indicating no residual correlation. Values smaller than 2 may indicate a positive autocorrelation and values larger than 2 may indicate a negative autocorrelation. We can assume that our dataset is not significantly autocorrelated. "
   ]
  },
  {
   "cell_type": "markdown",
   "metadata": {},
   "source": [
    "#### Assumption #3: The random errors are normally distributed."
   ]
  },
  {
   "cell_type": "markdown",
   "metadata": {},
   "source": [
    "Build a QQ-plot of the residuals to see if they are normally distributed (We learned about QQ-plots last week!)."
   ]
  },
  {
   "cell_type": "code",
   "execution_count": 60,
   "metadata": {},
   "outputs": [
    {
     "data": {
      "image/png": "[encoded data removed]",
      "text/plain": [
       "<Figure size 640x480 with 1 Axes>"
      ]
     },
     "metadata": {},
     "output_type": "display_data"
    }
   ],
   "source": [
    "sma.qqplot(train['resid_mlr'], line='45',fit=True)\n",
    "plt.show()"
   ]
  },
  {
   "cell_type": "markdown",
   "metadata": {},
   "source": [
    "CHALLENGE: You can conduct formal hypothesis testing to determine if the residuals meet the normality assumption (Shapiro-Wilk Test). The null hypothesis of this test assumes that the residuals are normally distributed. "
   ]
  },
  {
   "cell_type": "code",
   "execution_count": 61,
   "metadata": {},
   "outputs": [
    {
     "data": {
      "text/plain": [
       "ShapiroResult(statistic=0.9043267965316772, pvalue=4.952527136504709e-34)"
      ]
     },
     "execution_count": 61,
     "metadata": {},
     "output_type": "execute_result"
    }
   ],
   "source": [
    "sp.stats.shapiro(model_mlr.resid)"
   ]
  },
  {
   "cell_type": "markdown",
   "metadata": {},
   "source": [
    "In this case, since the p-value is lower than alpha = 0.05, we can assume that the distribution of residuals is significantly different from normal. This information is backed up by our QQ-plot. \n",
    "\n",
    "We will likely need to transform the residuals/variables to reach normality (Box-Cox Transformation, log, etc.). "
   ]
  },
  {
   "cell_type": "markdown",
   "metadata": {},
   "source": [
    "#### Assumption #5: No perfect collinearity."
   ]
  },
  {
   "cell_type": "code",
   "execution_count": 62,
   "metadata": {},
   "outputs": [
    {
     "data": {
      "text/html": [
       "<div>\n",
       "<style scoped>\n",
       "    .dataframe tbody tr th:only-of-type {\n",
       "        vertical-align: middle;\n",
       "    }\n",
       "\n",
       "    .dataframe tbody tr th {\n",
       "        vertical-align: top;\n",
       "    }\n",
       "\n",
       "    .dataframe thead th {\n",
       "        text-align: right;\n",
       "    }\n",
       "</style>\n",
       "<table border=\"1\" class=\"dataframe\">\n",
       "  <thead>\n",
       "    <tr style=\"text-align: right;\">\n",
       "      <th></th>\n",
       "      <th>VIF</th>\n",
       "      <th>variable</th>\n",
       "    </tr>\n",
       "  </thead>\n",
       "  <tbody>\n",
       "    <tr>\n",
       "      <th>0</th>\n",
       "      <td>17.95314</td>\n",
       "      <td>Intercept</td>\n",
       "    </tr>\n",
       "    <tr>\n",
       "      <th>1</th>\n",
       "      <td>2.83515</td>\n",
       "      <td>Gr_Liv_Area</td>\n",
       "    </tr>\n",
       "    <tr>\n",
       "      <th>2</th>\n",
       "      <td>2.83515</td>\n",
       "      <td>TotRms_AbvGrd</td>\n",
       "    </tr>\n",
       "  </tbody>\n",
       "</table>\n",
       "</div>"
      ],
      "text/plain": [
       "        VIF       variable\n",
       "0  17.95314      Intercept\n",
       "1   2.83515    Gr_Liv_Area\n",
       "2   2.83515  TotRms_AbvGrd"
      ]
     },
     "execution_count": 62,
     "metadata": {},
     "output_type": "execute_result"
    }
   ],
   "source": [
    "y, X = dmatrices('Sale_Price ~ Gr_Liv_Area+TotRms_AbvGrd', data=train, return_type='dataframe')\n",
    "\n",
    "vif = pd.DataFrame()\n",
    "vif['VIF'] = [variance_inflation_factor(X.values, i) for i in range(X.shape[1])]\n",
    "vif['variable'] = X.columns\n",
    "vif"
   ]
  },
  {
   "cell_type": "markdown",
   "metadata": {},
   "source": [
    "There appears to be only moderate correlation between our original two input variables based on their VIF values."
   ]
  },
  {
   "cell_type": "markdown",
   "metadata": {},
   "source": [
    "### CHALLENGE: Influential Points and Outliers"
   ]
  },
  {
   "cell_type": "markdown",
   "metadata": {},
   "source": [
    "The following code snippets are useful in determining influential points and outliers in a dataset. Can you pinpoint which observation numbers are influential points, outliers or both?"
   ]
  },
  {
   "cell_type": "code",
   "execution_count": 63,
   "metadata": {},
   "outputs": [
    {
     "data": {
      "image/png": "[encoded data removed]",
      "text/plain": [
       "<Figure size 640x480 with 1 Axes>"
      ]
     },
     "metadata": {},
     "output_type": "display_data"
    }
   ],
   "source": [
    "sma.graphics.influence_plot(model_mlr)\n",
    "plt.show()"
   ]
  },
  {
   "cell_type": "code",
   "execution_count": 64,
   "metadata": {},
   "outputs": [
    {
     "data": {
      "image/png": "[encoded data removed]",
      "text/plain": [
       "<Figure size 640x480 with 1 Axes>"
      ]
     },
     "metadata": {},
     "output_type": "display_data"
    }
   ],
   "source": [
    "sma.graphics.plot_leverage_resid2(model_mlr)\n",
    "plt.show()"
   ]
  },
  {
   "cell_type": "markdown",
   "metadata": {},
   "source": [
    "#### Cook's D"
   ]
  },
  {
   "cell_type": "code",
   "execution_count": 65,
   "metadata": {},
   "outputs": [
    {
     "data": {
      "text/plain": [
       "(2278    1.781944e-03\n",
       " 1379    5.031781e-06\n",
       " 2182    2.817206e-07\n",
       " 1436    9.908465e-09\n",
       " 1599    1.059697e-04\n",
       "             ...     \n",
       " 1147    8.893020e-05\n",
       " 2154    4.140414e-04\n",
       " 1766    2.646491e-04\n",
       " 1122    1.680231e-06\n",
       " 1346    1.052055e-03\n",
       " Length: 2051, dtype: float64,\n",
       " array([0.99989617, 0.99999998, 1.        , ..., 0.99999405, 1.        ,\n",
       "        0.99995287]))"
      ]
     },
     "execution_count": 65,
     "metadata": {},
     "output_type": "execute_result"
    }
   ],
   "source": [
    "outliers_inf = OLSInfluence(model_mlr)\n",
    "outliers_inf.cooks_distance"
   ]
  },
  {
   "cell_type": "markdown",
   "metadata": {},
   "source": [
    "#### Studentized Residuals"
   ]
  },
  {
   "cell_type": "code",
   "execution_count": 66,
   "metadata": {},
   "outputs": [
    {
     "data": {
      "text/plain": [
       "2278   -1.708109\n",
       "1379    0.092268\n",
       "2182    0.030306\n",
       "1436    0.005727\n",
       "1599   -0.566093\n",
       "          ...   \n",
       "1147   -0.349423\n",
       "2154    1.506709\n",
       "1766   -0.602232\n",
       "1122    0.096750\n",
       "1346   -1.875493\n",
       "Length: 2051, dtype: float64"
      ]
     },
     "execution_count": 66,
     "metadata": {},
     "output_type": "execute_result"
    }
   ],
   "source": [
    "outliers_inf.resid_studentized"
   ]
  },
  {
   "cell_type": "markdown",
   "metadata": {},
   "source": [
    "#### DFBETA"
   ]
  },
  {
   "cell_type": "code",
   "execution_count": 67,
   "metadata": {},
   "outputs": [
    {
     "data": {
      "text/plain": [
       "array([[ 0.05148433,  0.016026  , -0.04886009],\n",
       "       [ 0.0006326 , -0.00325255,  0.0022641 ],\n",
       "       [ 0.00073696, -0.00012323, -0.00026772],\n",
       "       ...,\n",
       "       [ 0.00657688, -0.02119442,  0.00936927],\n",
       "       [ 0.00114169,  0.0002946 , -0.00060663],\n",
       "       [-0.00075523, -0.03524766,  0.01998028]])"
      ]
     },
     "execution_count": 67,
     "metadata": {},
     "output_type": "execute_result"
    }
   ],
   "source": [
    "outliers_inf.dfbetas"
   ]
  },
  {
   "cell_type": "markdown",
   "metadata": {},
   "source": [
    "### Metrics for Model Comparison"
   ]
  },
  {
   "cell_type": "markdown",
   "metadata": {},
   "source": [
    "Calculate the RMSE, MAE, and MAPE for our MLR model. These metrics aren't necessarily useful unless we build more than one model and use them as a baseline for comparison."
   ]
  },
  {
   "cell_type": "markdown",
   "metadata": {},
   "source": [
    "#### RMSE"
   ]
  },
  {
   "cell_type": "code",
   "execution_count": 68,
   "metadata": {},
   "outputs": [
    {
     "data": {
      "text/plain": [
       "57214.610680433565"
      ]
     },
     "execution_count": 68,
     "metadata": {},
     "output_type": "execute_result"
    }
   ],
   "source": [
    "sqrt(sklearn.metrics.mean_squared_error(train['Sale_Price'], train['pred_mlr'])) "
   ]
  },
  {
   "cell_type": "markdown",
   "metadata": {},
   "source": [
    "#### MAE"
   ]
  },
  {
   "cell_type": "code",
   "execution_count": 69,
   "metadata": {},
   "outputs": [
    {
     "data": {
      "text/plain": [
       "38701.175566418584"
      ]
     },
     "execution_count": 69,
     "metadata": {},
     "output_type": "execute_result"
    }
   ],
   "source": [
    "sklearn.metrics.mean_absolute_error(train['Sale_Price'], train['pred_mlr'])"
   ]
  },
  {
   "cell_type": "markdown",
   "metadata": {},
   "source": [
    "#### MAPE"
   ]
  },
  {
   "cell_type": "markdown",
   "metadata": {},
   "source": [
    "This is one of the most interpretable metrics we can use. The MAPE gives the average absolute percentage difference between our predictions and the actual values. "
   ]
  },
  {
   "cell_type": "code",
   "execution_count": 70,
   "metadata": {},
   "outputs": [
    {
     "data": {
      "text/plain": [
       "0.2371633805890689"
      ]
     },
     "execution_count": 70,
     "metadata": {},
     "output_type": "execute_result"
    }
   ],
   "source": [
    "sklearn.metrics.mean_absolute_percentage_error(train['Sale_Price'], train['pred_mlr'])"
   ]
  },
  {
   "cell_type": "markdown",
   "metadata": {},
   "source": [
    "### Logistic Regression"
   ]
  },
  {
   "cell_type": "markdown",
   "metadata": {},
   "source": [
    "Let's pull in another dataset called `titanic_train.csv`. This dataset has already been split into training and test sets. The data is collected from the Titanic shipwreck, documenting features of each passenger and whether or not they survived."
   ]
  },
  {
   "cell_type": "code",
   "execution_count": 71,
   "metadata": {},
   "outputs": [
    {
     "data": {
      "text/html": [
       "<div>\n",
       "<style scoped>\n",
       "    .dataframe tbody tr th:only-of-type {\n",
       "        vertical-align: middle;\n",
       "    }\n",
       "\n",
       "    .dataframe tbody tr th {\n",
       "        vertical-align: top;\n",
       "    }\n",
       "\n",
       "    .dataframe thead th {\n",
       "        text-align: right;\n",
       "    }\n",
       "</style>\n",
       "<table border=\"1\" class=\"dataframe\">\n",
       "  <thead>\n",
       "    <tr style=\"text-align: right;\">\n",
       "      <th></th>\n",
       "      <th>PassengerId</th>\n",
       "      <th>Survived</th>\n",
       "      <th>Pclass</th>\n",
       "      <th>Name</th>\n",
       "      <th>Sex</th>\n",
       "      <th>Age</th>\n",
       "      <th>SibSp</th>\n",
       "      <th>Parch</th>\n",
       "      <th>Ticket</th>\n",
       "      <th>Fare</th>\n",
       "      <th>Cabin</th>\n",
       "      <th>Embarked</th>\n",
       "    </tr>\n",
       "  </thead>\n",
       "  <tbody>\n",
       "    <tr>\n",
       "      <th>0</th>\n",
       "      <td>1</td>\n",
       "      <td>0</td>\n",
       "      <td>3</td>\n",
       "      <td>Braund, Mr. Owen Harris</td>\n",
       "      <td>male</td>\n",
       "      <td>22.0</td>\n",
       "      <td>1</td>\n",
       "      <td>0</td>\n",
       "      <td>A/5 21171</td>\n",
       "      <td>7.2500</td>\n",
       "      <td>NaN</td>\n",
       "      <td>S</td>\n",
       "    </tr>\n",
       "    <tr>\n",
       "      <th>1</th>\n",
       "      <td>2</td>\n",
       "      <td>1</td>\n",
       "      <td>1</td>\n",
       "      <td>Cumings, Mrs. John Bradley (Florence Briggs Th...</td>\n",
       "      <td>female</td>\n",
       "      <td>38.0</td>\n",
       "      <td>1</td>\n",
       "      <td>0</td>\n",
       "      <td>PC 17599</td>\n",
       "      <td>71.2833</td>\n",
       "      <td>C85</td>\n",
       "      <td>C</td>\n",
       "    </tr>\n",
       "    <tr>\n",
       "      <th>2</th>\n",
       "      <td>3</td>\n",
       "      <td>1</td>\n",
       "      <td>3</td>\n",
       "      <td>Heikkinen, Miss. Laina</td>\n",
       "      <td>female</td>\n",
       "      <td>26.0</td>\n",
       "      <td>0</td>\n",
       "      <td>0</td>\n",
       "      <td>STON/O2. 3101282</td>\n",
       "      <td>7.9250</td>\n",
       "      <td>NaN</td>\n",
       "      <td>S</td>\n",
       "    </tr>\n",
       "    <tr>\n",
       "      <th>3</th>\n",
       "      <td>4</td>\n",
       "      <td>1</td>\n",
       "      <td>1</td>\n",
       "      <td>Futrelle, Mrs. Jacques Heath (Lily May Peel)</td>\n",
       "      <td>female</td>\n",
       "      <td>35.0</td>\n",
       "      <td>1</td>\n",
       "      <td>0</td>\n",
       "      <td>113803</td>\n",
       "      <td>53.1000</td>\n",
       "      <td>C123</td>\n",
       "      <td>S</td>\n",
       "    </tr>\n",
       "    <tr>\n",
       "      <th>4</th>\n",
       "      <td>5</td>\n",
       "      <td>0</td>\n",
       "      <td>3</td>\n",
       "      <td>Allen, Mr. William Henry</td>\n",
       "      <td>male</td>\n",
       "      <td>35.0</td>\n",
       "      <td>0</td>\n",
       "      <td>0</td>\n",
       "      <td>373450</td>\n",
       "      <td>8.0500</td>\n",
       "      <td>NaN</td>\n",
       "      <td>S</td>\n",
       "    </tr>\n",
       "  </tbody>\n",
       "</table>\n",
       "</div>"
      ],
      "text/plain": [
       "   PassengerId  Survived  Pclass  \\\n",
       "0            1         0       3   \n",
       "1            2         1       1   \n",
       "2            3         1       3   \n",
       "3            4         1       1   \n",
       "4            5         0       3   \n",
       "\n",
       "                                                Name     Sex   Age  SibSp  \\\n",
       "0                            Braund, Mr. Owen Harris    male  22.0      1   \n",
       "1  Cumings, Mrs. John Bradley (Florence Briggs Th...  female  38.0      1   \n",
       "2                             Heikkinen, Miss. Laina  female  26.0      0   \n",
       "3       Futrelle, Mrs. Jacques Heath (Lily May Peel)  female  35.0      1   \n",
       "4                           Allen, Mr. William Henry    male  35.0      0   \n",
       "\n",
       "   Parch            Ticket     Fare Cabin Embarked  \n",
       "0      0         A/5 21171   7.2500   NaN        S  \n",
       "1      0          PC 17599  71.2833   C85        C  \n",
       "2      0  STON/O2. 3101282   7.9250   NaN        S  \n",
       "3      0            113803  53.1000  C123        S  \n",
       "4      0            373450   8.0500   NaN        S  "
      ]
     },
     "execution_count": 71,
     "metadata": {},
     "output_type": "execute_result"
    }
   ],
   "source": [
    "train2 = pd.read_csv('titanic_train.csv')\n",
    "train2.head()"
   ]
  },
  {
   "cell_type": "markdown",
   "metadata": {},
   "source": [
    "Build a logistic regression model to predict whether or not the passenger survived (`Survived`) based on sex, age, and trip fare (`Sex`, `Age`, `Fare`)."
   ]
  },
  {
   "cell_type": "code",
   "execution_count": 72,
   "metadata": {},
   "outputs": [
    {
     "name": "stdout",
     "output_type": "stream",
     "text": [
      "Optimization terminated successfully.\n",
      "         Current function value: 0.501450\n",
      "         Iterations 6\n"
     ]
    },
    {
     "data": {
      "text/html": [
       "<table class=\"simpletable\">\n",
       "<caption>Logit Regression Results</caption>\n",
       "<tr>\n",
       "  <th>Dep. Variable:</th>       <td>Survived</td>     <th>  No. Observations:  </th>  <td>   714</td>  \n",
       "</tr>\n",
       "<tr>\n",
       "  <th>Model:</th>                 <td>Logit</td>      <th>  Df Residuals:      </th>  <td>   710</td>  \n",
       "</tr>\n",
       "<tr>\n",
       "  <th>Method:</th>                 <td>MLE</td>       <th>  Df Model:          </th>  <td>     3</td>  \n",
       "</tr>\n",
       "<tr>\n",
       "  <th>Date:</th>            <td>Wed, 12 Jul 2023</td> <th>  Pseudo R-squ.:     </th>  <td>0.2576</td>  \n",
       "</tr>\n",
       "<tr>\n",
       "  <th>Time:</th>                <td>15:40:28</td>     <th>  Log-Likelihood:    </th> <td> -358.04</td> \n",
       "</tr>\n",
       "<tr>\n",
       "  <th>converged:</th>             <td>True</td>       <th>  LL-Null:           </th> <td> -482.26</td> \n",
       "</tr>\n",
       "<tr>\n",
       "  <th>Covariance Type:</th>     <td>nonrobust</td>    <th>  LLR p-value:       </th> <td>1.419e-53</td>\n",
       "</tr>\n",
       "</table>\n",
       "<table class=\"simpletable\">\n",
       "<tr>\n",
       "         <td></td>           <th>coef</th>     <th>std err</th>      <th>z</th>      <th>P>|z|</th>  <th>[0.025</th>    <th>0.975]</th>  \n",
       "</tr>\n",
       "<tr>\n",
       "  <th>Intercept</th>      <td>    0.9348</td> <td>    0.239</td> <td>    3.910</td> <td> 0.000</td> <td>    0.466</td> <td>    1.403</td>\n",
       "</tr>\n",
       "<tr>\n",
       "  <th>C(Sex)[T.male]</th> <td>   -2.3476</td> <td>    0.190</td> <td>  -12.359</td> <td> 0.000</td> <td>   -2.720</td> <td>   -1.975</td>\n",
       "</tr>\n",
       "<tr>\n",
       "  <th>Age</th>            <td>   -0.0106</td> <td>    0.006</td> <td>   -1.627</td> <td> 0.104</td> <td>   -0.023</td> <td>    0.002</td>\n",
       "</tr>\n",
       "<tr>\n",
       "  <th>Fare</th>           <td>    0.0128</td> <td>    0.003</td> <td>    4.738</td> <td> 0.000</td> <td>    0.007</td> <td>    0.018</td>\n",
       "</tr>\n",
       "</table>"
      ],
      "text/latex": [
       "\\begin{center}\n",
       "\\begin{tabular}{lclc}\n",
       "\\toprule\n",
       "\\textbf{Dep. Variable:}   &     Survived     & \\textbf{  No. Observations:  } &      714    \\\\\n",
       "\\textbf{Model:}           &      Logit       & \\textbf{  Df Residuals:      } &      710    \\\\\n",
       "\\textbf{Method:}          &       MLE        & \\textbf{  Df Model:          } &        3    \\\\\n",
       "\\textbf{Date:}            & Wed, 12 Jul 2023 & \\textbf{  Pseudo R-squ.:     } &   0.2576    \\\\\n",
       "\\textbf{Time:}            &     15:40:28     & \\textbf{  Log-Likelihood:    } &   -358.04   \\\\\n",
       "\\textbf{converged:}       &       True       & \\textbf{  LL-Null:           } &   -482.26   \\\\\n",
       "\\textbf{Covariance Type:} &    nonrobust     & \\textbf{  LLR p-value:       } & 1.419e-53   \\\\\n",
       "\\bottomrule\n",
       "\\end{tabular}\n",
       "\\begin{tabular}{lcccccc}\n",
       "                        & \\textbf{coef} & \\textbf{std err} & \\textbf{z} & \\textbf{P$> |$z$|$} & \\textbf{[0.025} & \\textbf{0.975]}  \\\\\n",
       "\\midrule\n",
       "\\textbf{Intercept}      &       0.9348  &        0.239     &     3.910  &         0.000        &        0.466    &        1.403     \\\\\n",
       "\\textbf{C(Sex)[T.male]} &      -2.3476  &        0.190     &   -12.359  &         0.000        &       -2.720    &       -1.975     \\\\\n",
       "\\textbf{Age}            &      -0.0106  &        0.006     &    -1.627  &         0.104        &       -0.023    &        0.002     \\\\\n",
       "\\textbf{Fare}           &       0.0128  &        0.003     &     4.738  &         0.000        &        0.007    &        0.018     \\\\\n",
       "\\bottomrule\n",
       "\\end{tabular}\n",
       "%\\caption{Logit Regression Results}\n",
       "\\end{center}"
      ],
      "text/plain": [
       "<class 'statsmodels.iolib.summary.Summary'>\n",
       "\"\"\"\n",
       "                           Logit Regression Results                           \n",
       "==============================================================================\n",
       "Dep. Variable:               Survived   No. Observations:                  714\n",
       "Model:                          Logit   Df Residuals:                      710\n",
       "Method:                           MLE   Df Model:                            3\n",
       "Date:                Wed, 12 Jul 2023   Pseudo R-squ.:                  0.2576\n",
       "Time:                        15:40:28   Log-Likelihood:                -358.04\n",
       "converged:                       True   LL-Null:                       -482.26\n",
       "Covariance Type:            nonrobust   LLR p-value:                 1.419e-53\n",
       "==================================================================================\n",
       "                     coef    std err          z      P>|z|      [0.025      0.975]\n",
       "----------------------------------------------------------------------------------\n",
       "Intercept          0.9348      0.239      3.910      0.000       0.466       1.403\n",
       "C(Sex)[T.male]    -2.3476      0.190    -12.359      0.000      -2.720      -1.975\n",
       "Age               -0.0106      0.006     -1.627      0.104      -0.023       0.002\n",
       "Fare               0.0128      0.003      4.738      0.000       0.007       0.018\n",
       "==================================================================================\n",
       "\"\"\""
      ]
     },
     "execution_count": 72,
     "metadata": {},
     "output_type": "execute_result"
    }
   ],
   "source": [
    "log_model = smf.logit(\"Survived ~ C(Sex) + Age + Fare\", data = train2).fit()\n",
    "log_model.summary()"
   ]
  },
  {
   "cell_type": "markdown",
   "metadata": {},
   "source": [
    "Output the odds ratios for each predictor variable in the logistic regression model."
   ]
  },
  {
   "cell_type": "code",
   "execution_count": 73,
   "metadata": {},
   "outputs": [
    {
     "data": {
      "text/plain": [
       "Intercept         154.680790\n",
       "C(Sex)[T.male]    -90.440155\n",
       "Age                -1.051387\n",
       "Fare                1.285487\n",
       "dtype: float64"
      ]
     },
     "execution_count": 73,
     "metadata": {},
     "output_type": "execute_result"
    }
   ],
   "source": [
    "odds_ratio = 100*(np.exp(log_model.params) - 1)\n",
    "odds_ratio"
   ]
  },
  {
   "cell_type": "markdown",
   "metadata": {},
   "source": [
    "In other words, every additional dollar in fare increases the expected odds of surviving by 1.28%. \n",
    "\n",
    "Every additional year in age decreased the expected odds of surviving by 1.05%.\n",
    "\n",
    "Being a male decreased the expected odds of surviving by 90.44%."
   ]
  }
 ],
 "metadata": {
  "kernelspec": {
   "display_name": "Python 3",
   "language": "python",
   "name": "python3"
  },
  "language_info": {
   "codemirror_mode": {
    "name": "ipython",
    "version": 3
   },
   "file_extension": ".py",
   "mimetype": "text/x-python",
   "name": "python",
   "nbconvert_exporter": "python",
   "pygments_lexer": "ipython3",
   "version": "3.10.0"
  },
  "orig_nbformat": 4
 },
 "nbformat": 4,
 "nbformat_minor": 2
}
